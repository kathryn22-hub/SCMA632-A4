{
 "cells": [
  {
   "cell_type": "code",
   "execution_count": 4,
   "id": "15718f27",
   "metadata": {},
   "outputs": [],
   "source": [
    "import pandas as pd, numpy as np\n",
    "import os "
   ]
  },
  {
   "cell_type": "code",
   "execution_count": 5,
   "id": "4b486799",
   "metadata": {},
   "outputs": [],
   "source": [
    "os.chdir(\"D:\\\\Assignments_SCMA632\\\\Data\")"
   ]
  },
  {
   "cell_type": "code",
   "execution_count": 6,
   "id": "792873e3",
   "metadata": {},
   "outputs": [],
   "source": [
    "df=pd.read_csv('pizza_data.csv')"
   ]
  },
  {
   "cell_type": "code",
   "execution_count": null,
   "id": "8199e455",
   "metadata": {},
   "outputs": [],
   "source": [
    "import statsmodels.api as sm\n",
    "import statsmodels.formula.api as smf\n",
    "\n",
    "model='ranking ~ C(brand,Sum)+C(price,Sum)+C(weight,Sum)+C(crust,Sum)+C(cheese,Sum)+C(size,Sum)+C(toppings,Sum)+C(spicy,Sum)'\n",
    "model_fit=smf.ols(model,data=df).fit()\n",
    "print(model_fit.summary())"
   ]
  },
  {
   "cell_type": "code",
   "execution_count": null,
   "id": "eb1abad5",
   "metadata": {},
   "outputs": [],
   "source": [
    "conjoint_attributes = ['brand','price','weight','crust','cheese','size','toppings','spicy']"
   ]
  },
  {
   "cell_type": "code",
   "execution_count": null,
   "id": "7f5fe439",
   "metadata": {},
   "outputs": [],
   "source": [
    "level_name = []\n",
    "part_worth = []\n",
    "part_worth_range = []\n",
    "important_levels = {}\n",
    "end = 1 \n",
    "\n",
    "# Initialize index for coefficient in params\n",
    "\n",
    "for item in conjoint_attributes:\n",
    "    nlevels = len(list(np.unique(df[item])))\n",
    "    level_name.append(list(np.unique(df[item])))\n",
    "    \n",
    "    begin = end\n",
    "    end = begin + nlevels -1\n",
    "    \n",
    "    new_part_worth = list(model_fit.params[begin:end])\n",
    "    new_part_worth.append((-1)*sum(new_part_worth))\n",
    "    important_levels[item] = np.argmax(new_part_worth)\n",
    "    part_worth.append(new_part_worth)\n",
    "    print(item)\n",
    "    #print(part_worth)\n",
    "    part_worth_range.append(max(new_part_worth) - min(new_part_worth))"
   ]
  },
  {
   "cell_type": "code",
   "execution_count": null,
   "id": "9aa2f0ba",
   "metadata": {},
   "outputs": [],
   "source": [
    "# next iteration\n",
    "print(\"-------------------------------------------------------------\")\n",
    "print(\"level name:\")\n",
    "print(level_name)\n",
    "print(\"npw with sum element:\")\n",
    "print(new_part_worth)\n",
    "print(\"imp level:\")\n",
    "print(important_levels)\n",
    "print(\"part worth:\")\n",
    "print(part_worth)\n",
    "print(\"part_worth_range:\")\n",
    "print(part_worth_range)\n",
    "print(len(part_worth))\n",
    "print(\"important levels:\")\n",
    "print(important_levels)"
   ]
  },
  {
   "cell_type": "code",
   "execution_count": null,
   "id": "6cc6c4d3",
   "metadata": {},
   "outputs": [],
   "source": [
    "attribute_importance = []\n",
    "for i in part_worth_range:\n",
    "    #print(i)\n",
    "    attribute_importance.append(round(100*(i/sum(part_worth_range)),2))\n",
    "print(attribute_importance)"
   ]
  },
  {
   "cell_type": "code",
   "execution_count": null,
   "id": "f2885227",
   "metadata": {},
   "outputs": [],
   "source": [
    "part_worth_dict={}\n",
    "attrib_level={}\n",
    "for item,i in zip(conjoint_attributes,range(0,len(conjoint_attributes))):\n",
    "    print(\"Attribute :\",item)\n",
    "    print(\"    Relative importance of attribute \",attribute_importance[i])\n",
    "    print(\"    Level wise part worths: \")\n",
    "    for j in range(0,len(level_name[i])):\n",
    "        print(i)\n",
    "        print(j)\n",
    "        print(\"          {}:{}\".format(level_name[i][j],part_worth[i][j]))\n",
    "        part_worth_dict[level_name[i][j]]=part_worth[i][j]\n",
    "        attrib_level[item]=(level_name[i])\n",
    "        #print(j)\n",
    "part_worth_dict"
   ]
  },
  {
   "cell_type": "code",
   "execution_count": null,
   "id": "fbe253ef",
   "metadata": {},
   "outputs": [],
   "source": [
    "import matplotlib.pyplot as plt\n",
    "import seaborn as sns\n",
    "plt.figure(figsize=(10,5))\n",
    "sns.barplot(x=conjoint_attributes,y=attribute_importance)\n",
    "plt.title('Relative importance of attributes')\n",
    "plt.xlabel('Attributes')\n",
    "plt.ylabel('Importance')"
   ]
  },
  {
   "cell_type": "code",
   "execution_count": null,
   "id": "ec9d86fc",
   "metadata": {},
   "outputs": [],
   "source": [
    "utility = []\n",
    "for i in range(df.shape[0]):\n",
    "    score = part_worth_dict[df['brand'][i]]+part_worth_dict[df['price'][i]]+part_worth_dict[df['weight'][i]]+part_worth_dict[df['crust'][i]]+part_worth_dict[df['cheese'][i]]+part_worth_dict[df['size'][i]]+part_worth_dict[df['toppings'][i]]+part_worth_dict[df['spicy'][i]]\n",
    "    utility.append(score)\n",
    "    \n",
    "df['utility'] = utility\n",
    "utility"
   ]
  },
  {
   "cell_type": "code",
   "execution_count": null,
   "id": "a6a5a0f3",
   "metadata": {},
   "outputs": [],
   "source": [
    "print(\"The profile that has the highest utility score :\",'\\n', df.iloc[np.argmax(utility)])"
   ]
  },
  {
   "cell_type": "code",
   "execution_count": null,
   "id": "c8c9a474",
   "metadata": {},
   "outputs": [],
   "source": [
    "for i,j in zip(attrib_level.keys(),range(0,len(conjoint_attributes))):\n",
    "    #print(i)\n",
    "    #level_name[j]\n",
    "    print(\"Preferred level in {} is :: {}\".format(i,level_name[j][important_levels[i]]))"
   ]
  }
 ],
 "metadata": {
  "kernelspec": {
   "display_name": "Python 3 (ipykernel)",
   "language": "python",
   "name": "python3"
  },
  "language_info": {
   "codemirror_mode": {
    "name": "ipython",
    "version": 3
   },
   "file_extension": ".py",
   "mimetype": "text/x-python",
   "name": "python",
   "nbconvert_exporter": "python",
   "pygments_lexer": "ipython3",
   "version": "3.11.5"
  }
 },
 "nbformat": 4,
 "nbformat_minor": 5
}

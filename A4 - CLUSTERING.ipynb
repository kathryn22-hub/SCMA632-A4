{
 "cells": [
  {
   "cell_type": "code",
   "execution_count": null,
   "id": "e30081dc",
   "metadata": {},
   "outputs": [],
   "source": [
    "import pandas as pd\n",
    "import numpy as np\n",
    "from sklearn.cluster import KMeans\n",
    "from sklearn.metrics import silhouette_score\n",
    "import matplotlib.pyplot as plt\n",
    "import seaborn as sns\n",
    "from scipy.cluster.hierarchy import dendrogram, linkage, fcluster\n",
    "from scipy.spatial.distance import pdist\n",
    "import seaborn as sns\n"
   ]
  },
  {
   "cell_type": "code",
   "execution_count": null,
   "id": "a3810680",
   "metadata": {},
   "outputs": [],
   "source": [
    "# Function to read the CSV file\n",
    "survey_df = pd.read_csv('D:\\\\Assignments_SCMA632\\\\Data\\\\Survey.csv')"
   ]
  },
  {
   "cell_type": "code",
   "execution_count": null,
   "id": "b2b08216",
   "metadata": {},
   "outputs": [],
   "source": [
    "# Select the relevant columns for clustering\n",
    "sur_int = survey_df.iloc[:, 19:46]  # Python uses 0-based indexing\n"
   ]
  },
  {
   "cell_type": "code",
   "execution_count": null,
   "id": "99638de9",
   "metadata": {},
   "outputs": [],
   "source": [
    "# Function to find the optimal number of clusters using the Gap Statistic\n",
    "def optimal_number_of_clusters(data, max_k):\n",
    "    gaps = np.zeros((max_k,))\n",
    "    resultsdf = pd.DataFrame({'clusterCount':[], 'gap':[]})\n",
    "    \n",
    "    for k in range(1, max_k+1):\n",
    "        km = KMeans(n_clusters=k, n_init=25, random_state=123)\n",
    "        km.fit(data)\n",
    "        cluster_centers = km.cluster_centers_\n",
    "        dispersions = np.sum(np.min(cdist(data, cluster_centers, 'euclidean'), axis=1)) / data.shape[0]\n",
    "        gaps[k-1] = np.log(dispersions)\n",
    "    \n",
    "    gaps_diff = gaps[:-1] - gaps[1:]\n",
    "    optimal_k = gaps_diff.argmax() + 1\n",
    "    \n",
    "    return optimal_k, gaps"
   ]
  },
  {
   "cell_type": "code",
   "execution_count": null,
   "id": "62c587bf",
   "metadata": {},
   "outputs": [],
   "source": [
    "# Find the optimal number of clusters\n",
    "optimal_k, gaps = optimal_number_of_clusters(sur_int, 10)\n",
    "\n",
    "plt.plot(range(1, 11), gaps, marker='o')\n",
    "plt.xlabel('Number of clusters')\n",
    "plt.ylabel('Gap Statistic')\n",
    "plt.title('Gap Statistic vs. Number of clusters')\n",
    "plt.show()"
   ]
  },
  {
   "cell_type": "code",
   "execution_count": null,
   "id": "0cd749f3",
   "metadata": {},
   "outputs": [],
   "source": [
    "# Perform KMeans clustering\n",
    "km_res = KMeans(n_clusters=4, n_init=25, random_state=123)\n",
    "km_res.fit(sur_int)\n",
    "labels = km_res.labels_\n"
   ]
  },
  {
   "cell_type": "code",
   "execution_count": null,
   "id": "c25a1cb1",
   "metadata": {},
   "outputs": [],
   "source": [
    "# Plot the clusters\n",
    "plt.figure(figsize=(10, 7))\n",
    "sns.scatterplot(x=sur_int.iloc[:, 0], y=sur_int.iloc[:, 1], hue=labels, palette='viridis')\n",
    "plt.title('KMeans Clustering')\n",
    "plt.show()"
   ]
  },
  {
   "cell_type": "code",
   "execution_count": null,
   "id": "3ef1ddc0",
   "metadata": {},
   "outputs": [],
   "source": [
    "# Perform hierarchical clustering\n",
    "linked = linkage(sur_int, method='ward') \n",
    "\n",
    "plt.figure(figsize=(10, 7))\n",
    "dendrogram(linked, orientation='top', distance_sort='descending', show_leaf_counts=True)\n",
    "plt.title('Hierarchical Clustering Dendrogram')\n",
    "plt.show()"
   ]
  },
  {
   "cell_type": "code",
   "execution_count": null,
   "id": "37fa69ea",
   "metadata": {},
   "outputs": [],
   "source": [
    "# Create a heatmap\n",
    "sns.clustermap(sur_int.T, method='ward', col_cluster=True, row_cluster=False, cmap='viridis')\n",
    "plt.show()"
   ]
  }
 ],
 "metadata": {
  "kernelspec": {
   "display_name": "Python 3 (ipykernel)",
   "language": "python",
   "name": "python3"
  },
  "language_info": {
   "codemirror_mode": {
    "name": "ipython",
    "version": 3
   },
   "file_extension": ".py",
   "mimetype": "text/x-python",
   "name": "python",
   "nbconvert_exporter": "python",
   "pygments_lexer": "ipython3",
   "version": "3.11.5"
  }
 },
 "nbformat": 4,
 "nbformat_minor": 5
}

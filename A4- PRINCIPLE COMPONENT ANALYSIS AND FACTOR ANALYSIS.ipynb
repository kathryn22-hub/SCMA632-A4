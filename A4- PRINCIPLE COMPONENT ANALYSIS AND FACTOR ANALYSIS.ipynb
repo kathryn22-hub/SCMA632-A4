{
 "cells": [
  {
   "cell_type": "code",
   "execution_count": null,
   "id": "013bb376",
   "metadata": {},
   "outputs": [],
   "source": [
    "# Import necessary libraries\n",
    "import pandas as pd\n",
    "import numpy as np\n",
    "from sklearn.decomposition import PCA\n",
    "from sklearn.preprocessing import StandardScaler\n",
    "import matplotlib.pyplot as plt\n",
    "import seaborn as sns\n",
    "from factor_analyzer import FactorAnalyzer\n",
    "from factor_analyzer.rotator import Promax\n",
    "from factor_analyzer.factor_analyzer import calculate_kmo\n"
   ]
  },
  {
   "cell_type": "code",
   "execution_count": null,
   "id": "5762f37f",
   "metadata": {},
   "outputs": [],
   "source": [
    "# Function to read the CSV file\n",
    "survey_df = pd.read_csv('D:\\\\Assignments_SCMA632\\\\Data\\\\Survey.csv')\n"
   ]
  },
  {
   "cell_type": "code",
   "execution_count": null,
   "id": "48bdde56",
   "metadata": {},
   "outputs": [],
   "source": [
    "# Print dataset dimensions, column names, head, and structure\n",
    "print(survey_df.shape)\n",
    "print(survey_df.columns)\n",
    "print(survey_df.head())\n",
    "print(survey_df.info())\n"
   ]
  },
  {
   "cell_type": "code",
   "execution_count": null,
   "id": "4d33c657",
   "metadata": {},
   "outputs": [],
   "source": [
    "# Check for missing values\n",
    "print(survey_df.isna().sum())\n"
   ]
  },
  {
   "cell_type": "code",
   "execution_count": null,
   "id": "dad5f51b",
   "metadata": {},
   "outputs": [],
   "source": [
    "# Select the relevant columns for analysis\n",
    "sur_int = survey_df.iloc[:, 19:46]"
   ]
  },
  {
   "cell_type": "code",
   "execution_count": null,
   "id": "21ab3ae8",
   "metadata": {},
   "outputs": [],
   "source": [
    "# Print structure and dimensions of selected data\n",
    "print(sur_int.info())\n",
    "print(sur_int.shape)\n"
   ]
  },
  {
   "cell_type": "code",
   "execution_count": null,
   "id": "b407e817",
   "metadata": {},
   "outputs": [],
   "source": [
    "# Standardize the data before PCA\n",
    "scaler = StandardScaler()\n",
    "sur_int_scaled = scaler.fit_transform(sur_int)\n"
   ]
  },
  {
   "cell_type": "code",
   "execution_count": null,
   "id": "e44bfaad",
   "metadata": {},
   "outputs": [],
   "source": [
    "# Perform PCA\n",
    "pca = PCA(n_components=5)\n",
    "pca_result = pca.fit_transform(sur_int_scaled)\n"
   ]
  },
  {
   "cell_type": "code",
   "execution_count": null,
   "id": "f9079745",
   "metadata": {},
   "outputs": [],
   "source": [
    "# Print PCA components and explained variance\n",
    "print(pca.components_)\n",
    "print(pca.explained_variance_ratio_)\n"
   ]
  },
  {
   "cell_type": "code",
   "execution_count": null,
   "id": "453df44d",
   "metadata": {},
   "outputs": [],
   "source": [
    "# Biplot of the first two principal components\n",
    "plt.figure(figsize=(10, 7))\n",
    "plt.scatter(pca_result[:, 0], pca_result[:, 1])\n",
    "for i, txt in enumerate(sur_int.columns):\n",
    "    plt.annotate(txt, (pca.components_[0, i], pca.components_[1, i]))\n",
    "plt.xlabel('PC1')\n",
    "plt.ylabel('PC2')\n",
    "plt.title('PCA Biplot')\n",
    "plt.grid(True)\n",
    "plt.show()\n"
   ]
  },
  {
   "cell_type": "code",
   "execution_count": null,
   "id": "9ceb0aec",
   "metadata": {},
   "outputs": [],
   "source": [
    "# Perform Factor Analysis\n",
    "fa = FactorAnalyzer(n_factors=5, rotation=None)\n",
    "fa.fit(sur_int_scaled)"
   ]
  },
  {
   "cell_type": "code",
   "execution_count": null,
   "id": "ef436973",
   "metadata": {},
   "outputs": [],
   "source": [
    "# Get eigenvalues and plot\n",
    "ev, v = fa.get_eigenvalues()\n",
    "plt.scatter(range(1, sur_int_scaled.shape[1] + 1), ev)\n",
    "plt.plot(range(1, sur_int_scaled.shape[1] + 1), ev)\n",
    "plt.title('Scree Plot')\n",
    "plt.xlabel('Factors')\n",
    "plt.ylabel('Eigenvalue')\n",
    "plt.grid(True)\n",
    "plt.show()"
   ]
  },
  {
   "cell_type": "code",
   "execution_count": null,
   "id": "4e5e0d97",
   "metadata": {},
   "outputs": [],
   "source": [
    "# Perform Factor Analysis with Promax rotation\n",
    "fa = FactorAnalyzer(n_factors=5, rotation='promax')\n",
    "fa.fit(sur_int_scaled)\n",
    "print(fa.loadings_)\n"
   ]
  },
  {
   "cell_type": "code",
   "execution_count": null,
   "id": "c5d19552",
   "metadata": {},
   "outputs": [],
   "source": [
    "# Factor analysis with omega method\n",
    "kmo_all, kmo_model = calculate_kmo(sur_int_scaled)\n",
    "print('KMO: ', kmo_model)"
   ]
  },
  {
   "cell_type": "code",
   "execution_count": null,
   "id": "9b4f85d2",
   "metadata": {},
   "outputs": [],
   "source": [
    "# Summary of PCA\n",
    "print(pd.DataFrame(pca_result).describe())\n"
   ]
  },
  {
   "cell_type": "code",
   "execution_count": null,
   "id": "9be88bd2",
   "metadata": {},
   "outputs": [],
   "source": [
    "# Show structure and dimensions of sur_int\n",
    "print(sur_int.info())\n",
    "print(sur_int.shape)\n",
    "print(sur_int.head())"
   ]
  }
 ],
 "metadata": {
  "kernelspec": {
   "display_name": "Python 3 (ipykernel)",
   "language": "python",
   "name": "python3"
  },
  "language_info": {
   "codemirror_mode": {
    "name": "ipython",
    "version": 3
   },
   "file_extension": ".py",
   "mimetype": "text/x-python",
   "name": "python",
   "nbconvert_exporter": "python",
   "pygments_lexer": "ipython3",
   "version": "3.11.5"
  }
 },
 "nbformat": 4,
 "nbformat_minor": 5
}

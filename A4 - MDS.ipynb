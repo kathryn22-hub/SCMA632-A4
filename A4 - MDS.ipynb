{
 "cells": [
  {
   "cell_type": "code",
   "execution_count": null,
   "id": "43814236",
   "metadata": {},
   "outputs": [],
   "source": [
    "# Import necessary libraries\n",
    "import pandas as pd\n",
    "from sklearn.metrics import pairwise_distances\n",
    "from sklearn.manifold import MDS\n",
    "import matplotlib.pyplot as plt\n",
    "import os "
   ]
  },
  {
   "cell_type": "code",
   "execution_count": null,
   "id": "0d22fcf6",
   "metadata": {},
   "outputs": [],
   "source": [
    "# Set working directory\n",
    "os.chdir('D:\\\\Assignments_SCMA632\\\\Data')\n",
    "print(os.getcwd())"
   ]
  },
  {
   "cell_type": "code",
   "execution_count": null,
   "id": "7f573143",
   "metadata": {},
   "outputs": [],
   "source": [
    "# Read the CSV file\n",
    "icecream_df = pd.read_csv('Icecream.csv')\n"
   ]
  },
  {
   "cell_type": "code",
   "execution_count": null,
   "id": "d7b47ede",
   "metadata": {},
   "outputs": [],
   "source": [
    "# Print dataset dimensions and column names\n",
    "print(icecream_df.shape)\n",
    "print(icecream_df.columns)"
   ]
  },
  {
   "cell_type": "code",
   "execution_count": null,
   "id": "321ac041",
   "metadata": {},
   "outputs": [],
   "source": [
    "# Subset the data excluding the 'Brand' column\n",
    "ice = icecream_df.drop(columns=['Brand'])\n"
   ]
  },
  {
   "cell_type": "code",
   "execution_count": null,
   "id": "d4b0d806",
   "metadata": {},
   "outputs": [],
   "source": [
    "# Compute the distance matrix\n",
    "distance_matrix = pairwise_distances(ice, metric='euclidean')\n"
   ]
  },
  {
   "cell_type": "code",
   "execution_count": null,
   "id": "f790c33b",
   "metadata": {},
   "outputs": [],
   "source": [
    "# Perform MDS\n",
    "mds = MDS(n_components=2, dissimilarity='precomputed', random_state=123)\n",
    "mds_result = mds.fit_transform(distance_matrix)"
   ]
  },
  {
   "cell_type": "code",
   "execution_count": null,
   "id": "2e053931",
   "metadata": {},
   "outputs": [],
   "source": [
    "# Plot the MDS result\n",
    "plt.figure(figsize=(10, 7))\n",
    "plt.scatter(mds_result[:, 0], mds_result[:, 1], s=100, c='blue', marker='o')\n",
    "plt.xlabel('Dimension 1')\n",
    "plt.ylabel('Dimension 2')\n",
    "plt.title('MDS Plot')\n",
    "plt.grid(True)\n",
    "plt.show()"
   ]
  }
 ],
 "metadata": {
  "kernelspec": {
   "display_name": "Python 3 (ipykernel)",
   "language": "python",
   "name": "python3"
  },
  "language_info": {
   "codemirror_mode": {
    "name": "ipython",
    "version": 3
   },
   "file_extension": ".py",
   "mimetype": "text/x-python",
   "name": "python",
   "nbconvert_exporter": "python",
   "pygments_lexer": "ipython3",
   "version": "3.11.5"
  }
 },
 "nbformat": 4,
 "nbformat_minor": 5
}
